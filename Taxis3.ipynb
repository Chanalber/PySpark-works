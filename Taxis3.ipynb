{
 "cells": [
  {
   "cell_type": "code",
   "execution_count": 8,
   "id": "b4b036ed-0504-4733-89a4-d7377cf77870",
   "metadata": {},
   "outputs": [
    {
     "ename": "Exception",
     "evalue": "Unable to find py4j in /home/software/spark-3.1.2-bin-hadoop3.2/python, your SPARK_HOME may not be configured correctly",
     "output_type": "error",
     "traceback": [
      "\u001b[1;31m---------------------------------------------------------------------------\u001b[0m",
      "\u001b[1;31mIndexError\u001b[0m                                Traceback (most recent call last)",
      "File \u001b[1;32m~\\AppData\\Roaming\\Python\\Python39\\site-packages\\findspark.py:159\u001b[0m, in \u001b[0;36minit\u001b[1;34m(spark_home, python_path, edit_rc, edit_profile)\u001b[0m\n\u001b[0;32m    158\u001b[0m \u001b[38;5;28;01mtry\u001b[39;00m:\n\u001b[1;32m--> 159\u001b[0m     py4j \u001b[38;5;241m=\u001b[39m \u001b[43mglob\u001b[49m\u001b[43m(\u001b[49m\u001b[43mos\u001b[49m\u001b[38;5;241;43m.\u001b[39;49m\u001b[43mpath\u001b[49m\u001b[38;5;241;43m.\u001b[39;49m\u001b[43mjoin\u001b[49m\u001b[43m(\u001b[49m\u001b[43mspark_python\u001b[49m\u001b[43m,\u001b[49m\u001b[43m \u001b[49m\u001b[38;5;124;43m\"\u001b[39;49m\u001b[38;5;124;43mlib\u001b[39;49m\u001b[38;5;124;43m\"\u001b[39;49m\u001b[43m,\u001b[49m\u001b[43m \u001b[49m\u001b[38;5;124;43m\"\u001b[39;49m\u001b[38;5;124;43mpy4j-*.zip\u001b[39;49m\u001b[38;5;124;43m\"\u001b[39;49m\u001b[43m)\u001b[49m\u001b[43m)\u001b[49m\u001b[43m[\u001b[49m\u001b[38;5;241;43m0\u001b[39;49m\u001b[43m]\u001b[49m\n\u001b[0;32m    160\u001b[0m \u001b[38;5;28;01mexcept\u001b[39;00m \u001b[38;5;167;01mIndexError\u001b[39;00m:\n",
      "\u001b[1;31mIndexError\u001b[0m: list index out of range",
      "\nDuring handling of the above exception, another exception occurred:\n",
      "\u001b[1;31mException\u001b[0m                                 Traceback (most recent call last)",
      "Input \u001b[1;32mIn [8]\u001b[0m, in \u001b[0;36m<cell line: 11>\u001b[1;34m()\u001b[0m\n\u001b[0;32m      8\u001b[0m os\u001b[38;5;241m.\u001b[39menviron[\u001b[38;5;124m\"\u001b[39m\u001b[38;5;124mPYSPARK_DRIVER_PYTHON\u001b[39m\u001b[38;5;124m\"\u001b[39m] \u001b[38;5;241m=\u001b[39m \u001b[38;5;124m\"\u001b[39m\u001b[38;5;124mpython3.9\u001b[39m\u001b[38;5;124m\"\u001b[39m\n\u001b[0;32m     10\u001b[0m \u001b[38;5;28;01mimport\u001b[39;00m \u001b[38;5;21;01mfindspark\u001b[39;00m\n\u001b[1;32m---> 11\u001b[0m \u001b[43mfindspark\u001b[49m\u001b[38;5;241;43m.\u001b[39;49m\u001b[43minit\u001b[49m\u001b[43m(\u001b[49m\u001b[43m)\u001b[49m\n\u001b[0;32m     13\u001b[0m \u001b[38;5;28;01mfrom\u001b[39;00m \u001b[38;5;21;01mpyspark\u001b[39;00m\u001b[38;5;21;01m.\u001b[39;00m\u001b[38;5;21;01msql\u001b[39;00m \u001b[38;5;28;01mimport\u001b[39;00m SparkSession\n\u001b[0;32m     14\u001b[0m \u001b[38;5;28;01mfrom\u001b[39;00m \u001b[38;5;21;01mpyspark\u001b[39;00m \u001b[38;5;28;01mimport\u001b[39;00m SparkContext, SparkConf\n",
      "File \u001b[1;32m~\\AppData\\Roaming\\Python\\Python39\\site-packages\\findspark.py:161\u001b[0m, in \u001b[0;36minit\u001b[1;34m(spark_home, python_path, edit_rc, edit_profile)\u001b[0m\n\u001b[0;32m    159\u001b[0m         py4j \u001b[38;5;241m=\u001b[39m glob(os\u001b[38;5;241m.\u001b[39mpath\u001b[38;5;241m.\u001b[39mjoin(spark_python, \u001b[38;5;124m\"\u001b[39m\u001b[38;5;124mlib\u001b[39m\u001b[38;5;124m\"\u001b[39m, \u001b[38;5;124m\"\u001b[39m\u001b[38;5;124mpy4j-*.zip\u001b[39m\u001b[38;5;124m\"\u001b[39m))[\u001b[38;5;241m0\u001b[39m]\n\u001b[0;32m    160\u001b[0m     \u001b[38;5;28;01mexcept\u001b[39;00m \u001b[38;5;167;01mIndexError\u001b[39;00m:\n\u001b[1;32m--> 161\u001b[0m         \u001b[38;5;28;01mraise\u001b[39;00m \u001b[38;5;167;01mException\u001b[39;00m(\n\u001b[0;32m    162\u001b[0m             \u001b[38;5;124m\"\u001b[39m\u001b[38;5;124mUnable to find py4j in \u001b[39m\u001b[38;5;132;01m{}\u001b[39;00m\u001b[38;5;124m, your SPARK_HOME may not be configured correctly\u001b[39m\u001b[38;5;124m\"\u001b[39m\u001b[38;5;241m.\u001b[39mformat(\n\u001b[0;32m    163\u001b[0m                 spark_python\n\u001b[0;32m    164\u001b[0m             )\n\u001b[0;32m    165\u001b[0m         )\n\u001b[0;32m    166\u001b[0m     sys\u001b[38;5;241m.\u001b[39mpath[:\u001b[38;5;241m0\u001b[39m] \u001b[38;5;241m=\u001b[39m sys_path \u001b[38;5;241m=\u001b[39m [spark_python, py4j]\n\u001b[0;32m    167\u001b[0m \u001b[38;5;28;01melse\u001b[39;00m:\n\u001b[0;32m    168\u001b[0m     \u001b[38;5;66;03m# already imported, no need to patch sys.path\u001b[39;00m\n",
      "\u001b[1;31mException\u001b[0m: Unable to find py4j in /home/software/spark-3.1.2-bin-hadoop3.2/python, your SPARK_HOME may not be configured correctly"
     ]
    }
   ],
   "source": [
    "import os\n",
    "os.environ[\"SPARK_HOME\"] = \"/home/software/spark-3.1.2-bin-hadoop3.2/\"\n",
    "os.environ[\"HADOOP_CONF_DIR\"] = \"/usr/local/hadoop/etc/hadoop/\"\n",
    "os.environ[\"PYSPARK_PYTHON\"]= \"python3.9\"\n",
    "os.environ[\"PYSPARK_DRIVER_PYTHON\"] = \"python3.9\"\n",
    "\n",
    "import findspark\n",
    "findspark.init()\n",
    "\n",
    "from pyspark.sql import SparkSession\n",
    "from pyspark import SparkContext, SparkConf\n",
    "\n",
    "\n",
    "conf = SparkConf().setAll([('spark.app.name', 'Trabajo_taxis_3'), \\\n",
    "                               ('spark.executor.memory', '1g'), \\\n",
    "                               ('spark.executor.instances','20'), \\\n",
    "                               ('spark.executor.cores', '2'), \\\n",
    "                               ('spark.ui.port', '4677'), \\\n",
    "                               ('spark.driver.memory','1g')])\n",
    "    \n",
    "spark = SparkSession.builder.config(conf=conf).master('yarn').getOrCreate()#yarn es gestor de recursos. Nos da los nodos dentro del cluster\n",
    "\n",
    "sc = spark.sparkContext\n",
    "\n",
    "    # Datos de taxis\n",
    "    #!/usr/local/hadoop/bin/hdfs dfs -put tripdata_2017-01.csv\n",
    "df = spark.read.csv('tripdata_2017-01.csv', header=True, inferSchema=True)\n",
    "\n",
    "    #Datos de la zona de taxis\n",
    "    #!/usr/local/hadoop/bin/hdfs dfs -put taxi+_zone_lookup.csv  \n",
    "df1 = spark.read.csv('taxi+_zone_lookup.csv', header=True, inferSchema=True)\n",
    "    "
   ]
  },
  {
   "cell_type": "code",
   "execution_count": 3,
   "id": "bd54ac31",
   "metadata": {},
   "outputs": [
    {
     "name": "stdout",
     "output_type": "stream",
     "text": [
      "Defaulting to user installation because normal site-packages is not writeableNote: you may need to restart the kernel to use updated packages.\n",
      "Collecting findspark\n",
      "  Downloading findspark-2.0.1-py2.py3-none-any.whl (4.4 kB)\n",
      "Installing collected packages: findspark\n",
      "Successfully installed findspark-2.0.1\n",
      "\n"
     ]
    }
   ],
   "source": [
    "pip install findspark"
   ]
  },
  {
   "cell_type": "markdown",
   "id": "16f88c69-b4fb-43ac-877d-9c2aa11475cf",
   "metadata": {},
   "source": [
    "PROBLEMA 1: Tiempo de ejecución con un número creciente de cores."
   ]
  },
  {
   "cell_type": "code",
   "execution_count": null,
   "id": "826eb179-6642-4afa-a88e-3c78d61eed27",
   "metadata": {},
   "outputs": [],
   "source": [
    "from time import time \n",
    "import numpy as np\n",
    "import pyspark.sql.functions as F\n",
    "        \n",
    "t_0=time()  \n",
    "    \n",
    "# Aquí empieza el código del que se calculará el tiempo de ejecución-------------------------------------------------------------------------------------\n",
    "\n",
    "df.select(\n",
    "    \n",
    "        (df['trip_distance']/0.621371 /\n",
    "        (\n",
    "            F.unix_timestamp(F.to_timestamp(df['tpep_dropoff_datetime']))/3600  - \n",
    "            F.unix_timestamp(F.to_timestamp(df['tpep_pickup_datetime']))/3600\n",
    "        )\n",
    "        ).alias('v(km/h)'),\n",
    "    \n",
    "    F.concat(F.hour(F.to_timestamp(df['tpep_dropoff_datetime'])),F.lit(':00')).alias('Hour'),\n",
    "    \n",
    "    \n",
    ").groupby('Hour').mean('v(km/h)').orderBy('avg(v(km/h))',ascending=False).toPandas()   \n",
    "\n",
    "print(\"El tiempo de ejecución es de\",np.round(time()-t_0, 3), \"segundos.\")\n"
   ]
  },
  {
   "cell_type": "code",
   "execution_count": 4,
   "id": "caf6aa7c-af1b-462a-8b8a-05b172bf26dd",
   "metadata": {},
   "outputs": [
    {
     "data": {
      "image/png": "[encoded data removed]",
      "text/plain": [
       "<Figure size 432x288 with 1 Axes>"
      ]
     },
     "metadata": {
      "needs_background": "light"
     },
     "output_type": "display_data"
    }
   ],
   "source": [
    "import matplotlib.pyplot as plt\n",
    "import numpy as np\n",
    "\n",
    "# La tupla 'x' guarda los cores y la tupla 'y' el tiempo de ejecución correspondiente\n",
    "\n",
    "x = [1,4,8,12,16,20,24,28,32,36]\n",
    "y = [14.170,7.877,6.11,5.566,5.438,4.859,4.583,4.27,3.38,1.415]\n",
    "\n",
    "plt.plot(x,y)\n",
    "plt.xlabel('Número de cores')\n",
    "plt.ylabel('Tiempo de ejecución en segundos')\n",
    "plt.title('Tiempo de ejecución con un número creciente de cores.')\n",
    "plt.show()\n"
   ]
  },
  {
   "cell_type": "markdown",
   "id": "e74889e7-13dc-49a1-b429-94111118c217",
   "metadata": {},
   "source": [
    "La mayor caída se produce al principio, cuando pasamos de un sistema con una sola máquina de un core a un sistema distribuido de dos máquinas con dos cores cada una. Una vez tenemos un sistema distribuido, el tiempo de ejecución sigue disminuyendo progresivamente a medida que se aumenta el número de cores. "
   ]
  },
  {
   "cell_type": "markdown",
   "id": "97097dcc-3ec9-49d6-a2fc-9cfeb6a37aab",
   "metadata": {},
   "source": [
    "PROBLEMA 2: Velocidad de procesamiento."
   ]
  },
  {
   "cell_type": "code",
   "execution_count": 67,
   "id": "25a49cae-f53f-4a22-b633-a3146fce5c1a",
   "metadata": {},
   "outputs": [
    {
     "data": {
      "text/html": [
       "<div>\n",
       "<style scoped>\n",
       "    .dataframe tbody tr th:only-of-type {\n",
       "        vertical-align: middle;\n",
       "    }\n",
       "\n",
       "    .dataframe tbody tr th {\n",
       "        vertical-align: top;\n",
       "    }\n",
       "\n",
       "    .dataframe thead th {\n",
       "        text-align: right;\n",
       "    }\n",
       "</style>\n",
       "<table border=\"1\" class=\"dataframe\">\n",
       "  <thead>\n",
       "    <tr style=\"text-align: right;\">\n",
       "      <th></th>\n",
       "      <th>Velocidad de procesamiento</th>\n",
       "    </tr>\n",
       "    <tr>\n",
       "      <th>Número de cores</th>\n",
       "      <th></th>\n",
       "    </tr>\n",
       "  </thead>\n",
       "  <tbody>\n",
       "    <tr>\n",
       "      <th>1</th>\n",
       "      <td>68525.759</td>\n",
       "    </tr>\n",
       "    <tr>\n",
       "      <th>4</th>\n",
       "      <td>123271.550</td>\n",
       "    </tr>\n",
       "    <tr>\n",
       "      <th>8</th>\n",
       "      <td>158921.440</td>\n",
       "    </tr>\n",
       "    <tr>\n",
       "      <th>12</th>\n",
       "      <td>174453.827</td>\n",
       "    </tr>\n",
       "    <tr>\n",
       "      <th>16</th>\n",
       "      <td>178560.132</td>\n",
       "    </tr>\n",
       "    <tr>\n",
       "      <th>20</th>\n",
       "      <td>199837.415</td>\n",
       "    </tr>\n",
       "    <tr>\n",
       "      <th>24</th>\n",
       "      <td>211872.136</td>\n",
       "    </tr>\n",
       "    <tr>\n",
       "      <th>28</th>\n",
       "      <td>227402.810</td>\n",
       "    </tr>\n",
       "    <tr>\n",
       "      <th>32</th>\n",
       "      <td>287281.065</td>\n",
       "    </tr>\n",
       "    <tr>\n",
       "      <th>36</th>\n",
       "      <td>686226.148</td>\n",
       "    </tr>\n",
       "  </tbody>\n",
       "</table>\n",
       "</div>"
      ],
      "text/plain": [
       "                 Velocidad de procesamiento\n",
       "Número de cores                            \n",
       "1                                 68525.759\n",
       "4                                123271.550\n",
       "8                                158921.440\n",
       "12                               174453.827\n",
       "16                               178560.132\n",
       "20                               199837.415\n",
       "24                               211872.136\n",
       "28                               227402.810\n",
       "32                               287281.065\n",
       "36                               686226.148"
      ]
     },
     "execution_count": 67,
     "metadata": {},
     "output_type": "execute_result"
    }
   ],
   "source": [
    "t = sc.parallelize([14.170,7.877,6.11,5.566,5.438,4.859,4.583,4.27,3.38,1.415])\n",
    "import pandas as pd\n",
    "\n",
    "count = df.count()\n",
    "\n",
    "y = t.map(lambda x : count/float(x))\n",
    "list = y.collect()\n",
    "\n",
    "vp = pd.DataFrame(np.round(list,3)).rename(columns={0:'Velocidad de procesamiento'}, index={0:1,1:4,2:8,3:12,4:16,5:20,6:24,7:28,8:32,9:36})\n",
    "vp.index.name = 'Número de cores'\n",
    "vp\n",
    "\n",
    "#La velocidad de procesamiento representa el número de filas procesadas por segundo para el código del problema 1\n"
   ]
  },
  {
   "cell_type": "markdown",
   "id": "a4de840d-c86c-4975-ae2f-55373f080ab5",
   "metadata": {},
   "source": [
    "La velocidad de procesamiento aumenta con el número de cores."
   ]
  },
  {
   "cell_type": "markdown",
   "id": "4e994d5e-f60f-4ac9-a2cf-60f7c38c2a92",
   "metadata": {},
   "source": [
    "PROBLEMA 3: Cálculo de aceleración para el caso anterior."
   ]
  },
  {
   "cell_type": "code",
   "execution_count": 80,
   "id": "2faa2f26-89ba-485e-b22b-c1b0bccc09d6",
   "metadata": {},
   "outputs": [
    {
     "data": {
      "text/html": [
       "<div>\n",
       "<style scoped>\n",
       "    .dataframe tbody tr th:only-of-type {\n",
       "        vertical-align: middle;\n",
       "    }\n",
       "\n",
       "    .dataframe tbody tr th {\n",
       "        vertical-align: top;\n",
       "    }\n",
       "\n",
       "    .dataframe thead th {\n",
       "        text-align: right;\n",
       "    }\n",
       "</style>\n",
       "<table border=\"1\" class=\"dataframe\">\n",
       "  <thead>\n",
       "    <tr style=\"text-align: right;\">\n",
       "      <th></th>\n",
       "      <th>Aceleración o speed-up</th>\n",
       "    </tr>\n",
       "    <tr>\n",
       "      <th>Número de cores</th>\n",
       "      <th></th>\n",
       "    </tr>\n",
       "  </thead>\n",
       "  <tbody>\n",
       "    <tr>\n",
       "      <th>4</th>\n",
       "      <td>1.799</td>\n",
       "    </tr>\n",
       "    <tr>\n",
       "      <th>8</th>\n",
       "      <td>2.319</td>\n",
       "    </tr>\n",
       "    <tr>\n",
       "      <th>12</th>\n",
       "      <td>2.546</td>\n",
       "    </tr>\n",
       "    <tr>\n",
       "      <th>16</th>\n",
       "      <td>2.606</td>\n",
       "    </tr>\n",
       "    <tr>\n",
       "      <th>20</th>\n",
       "      <td>2.916</td>\n",
       "    </tr>\n",
       "    <tr>\n",
       "      <th>24</th>\n",
       "      <td>3.092</td>\n",
       "    </tr>\n",
       "    <tr>\n",
       "      <th>28</th>\n",
       "      <td>3.319</td>\n",
       "    </tr>\n",
       "    <tr>\n",
       "      <th>32</th>\n",
       "      <td>4.192</td>\n",
       "    </tr>\n",
       "    <tr>\n",
       "      <th>36</th>\n",
       "      <td>10.014</td>\n",
       "    </tr>\n",
       "  </tbody>\n",
       "</table>\n",
       "</div>"
      ],
      "text/plain": [
       "                 Aceleración o speed-up\n",
       "Número de cores                        \n",
       "4                                 1.799\n",
       "8                                 2.319\n",
       "12                                2.546\n",
       "16                                2.606\n",
       "20                                2.916\n",
       "24                                3.092\n",
       "28                                3.319\n",
       "32                                4.192\n",
       "36                               10.014"
      ]
     },
     "execution_count": 80,
     "metadata": {},
     "output_type": "execute_result"
    }
   ],
   "source": [
    "# Para el caso anterior, tomamos el tiempo con un core y calculamos la aceleración entre este proceso y el resto\n",
    "to = 14.170\n",
    "tm = sc.parallelize([7.877,6.11,5.566,5.438,4.859,4.583,4.27,3.38,1.415])\n",
    "\n",
    "a = tm.map(lambda x : to/x)\n",
    "lista = a.collect()\n",
    "\n",
    "pda = pd.DataFrame(np.round(lista,3)).rename(columns={0:'Aceleración o speed-up'}, index={0:4,1:8,2:12,3:16,4:20,5:24,6:28,7:32,8:36})\n",
    "pda.index.name = 'Número de cores'\n",
    "pda\n"
   ]
  },
  {
   "cell_type": "markdown",
   "id": "0ffb5172-ecf3-4628-8d14-350b5fe43b2b",
   "metadata": {},
   "source": [
    "El speed-up aumenta con el número de cores del proceso distribuido. Se observa un incremento del rendimiento muy significativo cuando se pasa de 1 core a 36.  "
   ]
  },
  {
   "cell_type": "markdown",
   "id": "b53bd117-3a3c-4c69-a373-e01627c419a6",
   "metadata": {},
   "source": [
    "PROBLEMA 4: Cantidad de datos procesados."
   ]
  },
  {
   "cell_type": "code",
   "execution_count": 83,
   "id": "99bc29f5-7688-45f6-9a85-db299e29f34e",
   "metadata": {},
   "outputs": [
    {
     "name": "stdout",
     "output_type": "stream",
     "text": [
      "La cantidad de datos procesados (filas) es de 971010\n"
     ]
    },
    {
     "name": "stderr",
     "output_type": "stream",
     "text": [
      "                                                                                \r"
     ]
    }
   ],
   "source": [
    "# Para conocer la cantidad de datos procesados, hacemos un count sobre la tabla de la que se parte en el código del problema 1\n",
    "\n",
    "print('La cantidad de datos procesados (filas) es de',df.count())"
   ]
  },
  {
   "cell_type": "code",
   "execution_count": null,
   "id": "07e63a9e-f657-44e0-8ff4-ece77593b63e",
   "metadata": {},
   "outputs": [],
   "source": []
  }
 ],
 "metadata": {
  "kernelspec": {
   "display_name": "Python 3 (ipykernel)",
   "language": "python",
   "name": "python3"
  },
  "language_info": {
   "codemirror_mode": {
    "name": "ipython",
    "version": 3
   },
   "file_extension": ".py",
   "mimetype": "text/x-python",
   "name": "python",
   "nbconvert_exporter": "python",
   "pygments_lexer": "ipython3",
   "version": "3.9.12"
  }
 },
 "nbformat": 4,
 "nbformat_minor": 5
}
